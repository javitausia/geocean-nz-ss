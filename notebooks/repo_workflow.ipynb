{
 "cells": [
  {
   "cell_type": "markdown",
   "metadata": {},
   "source": [
    "# Repository workflow + THEORY\n",
    "\n",
    "Before start running all the notebooks, it might be interesting to understand the whole repository as a single piece. In the README file, accesible [here](https://javitausia.github.io/geocean-nz-ss/README.html), the project organigram can be seen, but here we will focus in how all the notebooks / python scripts / datasets ... are used / run.\n",
    "\n",
    "## Repository GLOBAL aspect\n",
    "\n",
    "The way this repository is thought is based on running notebooks, and this means that all the results obtained in the project are extracted using the notebooks, which internally import the corresponfing python scripts. For this purpose, we created a modular code with different classes and functions, that correctly behaves offering a statistical / numerical tool to be applied over atmospheric and oceanographic data. Below a summary of the global picture:\n",
    "\n",
    "```{figure} ../media/images/repo-sketch.png\n",
    "---\n",
    "width: 600px\n",
    "name: repo-sketch\n",
    "---\n",
    "Global picture of the geocean-nz-ss repository. As it can be seen, everything is hosted in GitHub, and all the code might be run correctly using the anaconda/miniconda interface\n",
    "```\n",
    "\n",
    "In the **data_visualization** notebook we already used the **Loader** class, which internally uses more basic python libraries, so this is the basic idea in this project, we build python classes and functions that already use all the possible pre-built python packages, so the effort is optimized.\n",
    "\n",
    "```{note}\n",
    "The jupyter notebook choice was prefered based on the level of difficulty these notebooks offer, which is very basic, and also because of the popularity of them. Have a look at [this article](https://www.nature.com/articles/d41586-018-07196-1#:~:text=Jupyter%20is%20a%20free%2C%20open,resources%20in%20a%20single%20document.) and [this video](https://www.youtube.com/watch?v=9Q6sLbz37gk&t=1956s) for more important reasons of why notebooks are helpful !!\n",
    "```\n",
    "\n",
    "## Main Python packages\n",
    "\n",
    "Regarding the pre-built python libraries that are mainly used in the project, we will briefly explain some of them:\n",
    "\n",
    "* [NumPy](https://numpy.org/): NumPy is the fundamental package for scientific computing in Python. It is a Python library that provides a multidimensional array object, various derived objects (such as masked arrays and matrices), and an assortment of routines for fast operations on arrays, including mathematical, logical, shape manipulation, sorting, selecting, I/O, discrete Fourier transforms, basic linear algebra, basic statistical operations, random simulation and much more.\n",
    "\n",
    "* [xarray](http://xarray.pydata.org/en/stable/#): xarray (formerly xray) is an open source project and Python package that makes working with labelled multi-dimensional arrays simple, efficient, and fun! Xarray introduces labels in the form of dimensions, coordinates and attributes on top of raw NumPy-like arrays, which allows for a more intuitive, more concise, and less error-prone developer experience. The package includes a large and growing library of domain-agnostic functions for advanced analytics and visualization with these data structures. Xarray is inspired by and borrows heavily from [pandas](https://pandas.pydata.org/), the popular data analysis package focused on labelled tabular data. It is particularly tailored to working with [netCDF](https://unidata.github.io/netcdf4-python/) files, which were the source of xarray’s data model, and integrates tightly with dask for parallel computing.\n",
    "\n",
    "* [matplotlib](https://matplotlib.org/stable/index.html#): Matplotlib is a comprehensive library for creating static, animated, and interactive visualizations in Python. The majority of the plots are obtained using this plotting library.\n",
    "\n",
    "* [cartopy](https://scitools.org.uk/cartopy/docs/latest/): Cartopy is a Python package designed for geospatial data processing in order to produce maps and other geospatial data analyses. Cartopy makes use of the powerful PROJ.4, NumPy and Shapely libraries and includes a programmatic interface built on top of Matplotlib for the creation of publication quality maps.\n",
    "\n",
    "* [scikit-learn](https://scikit-learn.org/stable/index.html#): scikit-learn is a Python module for machine learning built on top of SciPy and is distributed under the 3-Clause BSD license. The project was started in 2007 by David Cournapeau as a Google Summer of Code project, and since then many volunteers have contributed. See the About us page for a list of core contributors.\n",
    "\n",
    "* [pyextremes](https://georgebv.github.io/pyextremes/): pyextremes is a Python library aimed at performing univariate Extreme Value Analysis (EVA).\n",
    "\n",
    "# Most important notebooks\n",
    "\n",
    "..."
   ]
  }
 ],
 "metadata": {
  "kernelspec": {
   "display_name": "Python 3",
   "language": "python",
   "name": "python3"
  },
  "language_info": {
   "codemirror_mode": {
    "name": "ipython",
    "version": 3
   },
   "file_extension": ".py",
   "mimetype": "text/x-python",
   "name": "python",
   "nbconvert_exporter": "python",
   "pygments_lexer": "ipython3",
   "version": "3.8.10"
  }
 },
 "nbformat": 4,
 "nbformat_minor": 4
}
