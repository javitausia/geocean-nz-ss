{
 "cells": [
  {
   "cell_type": "markdown",
   "id": "f639c2da",
   "metadata": {},
   "source": [
    "# LSTM first try"
   ]
  },
  {
   "cell_type": "code",
   "execution_count": null,
   "id": "a992e2d8",
   "metadata": {},
   "outputs": [],
   "source": [
    "# TODO: try LSTM"
   ]
  }
 ],
 "metadata": {
  "kernelspec": {
   "display_name": "Python 3",
   "language": "python",
   "name": "python3"
  },
  "language_info": {
   "codemirror_mode": {
    "name": "ipython",
    "version": 3
   },
   "file_extension": ".py",
   "mimetype": "text/x-python",
   "name": "python",
   "nbconvert_exporter": "python",
   "pygments_lexer": "ipython3",
   "version": "3.6.10"
  }
 },
 "nbformat": 4,
 "nbformat_minor": 5
}
