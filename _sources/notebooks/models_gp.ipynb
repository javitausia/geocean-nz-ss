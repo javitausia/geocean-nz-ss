{
 "cells": [
  {
   "cell_type": "code",
   "execution_count": 1,
   "id": "737bcb20",
   "metadata": {},
   "outputs": [],
   "source": [
    "# common\n",
    "import os\n",
    "\n",
    "# pip\n",
    "import numpy as np\n",
    "import pandas as pd\n",
    "import xarray as xr\n",
    "\n",
    "# maths\n",
    "from sklearn.gaussian_process.kernels import ConstantKernel, RBF\n",
    "\n",
    "# plotting\n",
    "import matplotlib.pyplot as plt\n",
    "import cartopy.crs as ccrs\n",
    "\n",
    "# bluemath toolkit library\n",
    "import sys\n",
    "sys.path.insert(0, os.path.join(os.path.abspath(''), '..'))\n",
    "\n",
    "from sscode.data import Loader, load_dac_hindcast"
   ]
  },
  {
   "cell_type": "code",
   "execution_count": 2,
   "id": "893892bb",
   "metadata": {},
   "outputs": [
    {
     "name": "stdout",
     "output_type": "stream",
     "text": [
      "Hyperparameter(name='k1__k1__constant_value', value_type='numeric', bounds=array([[ 0., 10.]]), n_elements=1, fixed=False)\n",
      "Hyperparameter(name='k1__k2__length_scale', value_type='numeric', bounds=array([[ 0., 10.]]), n_elements=1, fixed=False)\n",
      "Hyperparameter(name='k2__length_scale', value_type='numeric', bounds=array([[ 0., 10.]]), n_elements=1, fixed=False)\n",
      "k1 : 1**2 * RBF(length_scale=0.5)\n",
      "k1__k1 : 1**2\n",
      "k1__k1__constant_value : 1.0\n",
      "k1__k1__constant_value_bounds : (0.0, 10.0)\n",
      "k1__k2 : RBF(length_scale=0.5)\n",
      "k1__k2__length_scale : 0.5\n",
      "k1__k2__length_scale_bounds : (0.0, 10.0)\n",
      "k2 : RBF(length_scale=2)\n",
      "k2__length_scale : 2.0\n",
      "k2__length_scale_bounds : (0.0, 10.0)\n",
      "[ 0.         -0.69314718  0.69314718]\n",
      "[[      -inf 2.30258509]\n",
      " [      -inf 2.30258509]\n",
      " [      -inf 2.30258509]]\n"
     ]
    }
   ],
   "source": [
    "kernel = ConstantKernel(\n",
    "    constant_value=1.0,\n",
    "    constant_value_bounds=(0.0, 10.0)) * \\\n",
    "        RBF(length_scale=0.5,length_scale_bounds=(0.0, 10.0)) + \\\n",
    "        RBF(length_scale=2.0, length_scale_bounds=(0.0, 10.0))\n",
    "for hyperparameter in kernel.hyperparameters: print(hyperparameter)\n",
    "\n",
    "\n",
    "\n",
    "params = kernel.get_params()\n",
    "for key in sorted(params): print(\"%s : %s\" % (key, params[key]))\n",
    "\n",
    "\n",
    "\n",
    "\n",
    "\n",
    "\n",
    "\n",
    "\n",
    "\n",
    "\n",
    "print(kernel.theta)  # Note: log-transformed\n",
    "\n",
    "print(kernel.bounds)  # Note: log-transformed"
   ]
  },
  {
   "cell_type": "code",
   "execution_count": 15,
   "id": "bfb22ef3",
   "metadata": {},
   "outputs": [],
   "source": [
    "from scipy import stats"
   ]
  },
  {
   "cell_type": "code",
   "execution_count": 3,
   "id": "5c88542c",
   "metadata": {},
   "outputs": [],
   "source": [
    "from scipy.stats import chi2"
   ]
  },
  {
   "cell_type": "code",
   "execution_count": 20,
   "id": "0f11bc45",
   "metadata": {},
   "outputs": [
    {
     "data": {
      "text/plain": [
       "0.15729920705028105"
      ]
     },
     "execution_count": 20,
     "metadata": {},
     "output_type": "execute_result"
    }
   ],
   "source": [
    "ll = 2*(21-20)\n",
    "chi2.sf(ll,1)"
   ]
  },
  {
   "cell_type": "code",
   "execution_count": 16,
   "id": "3d6dfe78",
   "metadata": {},
   "outputs": [],
   "source": [
    "stats.chisqprob = lambda chisq, df: stats.chi2.sf(chisq, df)"
   ]
  },
  {
   "cell_type": "code",
   "execution_count": 17,
   "id": "da6aeade",
   "metadata": {},
   "outputs": [
    {
     "data": {
      "text/plain": [
       "9.485737571073857e-15"
      ]
     },
     "execution_count": 17,
     "metadata": {},
     "output_type": "execute_result"
    }
   ],
   "source": [
    "stats.chisqprob(60,1)"
   ]
  },
  {
   "cell_type": "code",
   "execution_count": null,
   "id": "25a69009",
   "metadata": {},
   "outputs": [],
   "source": []
  }
 ],
 "metadata": {
  "kernelspec": {
   "display_name": "Python 3",
   "language": "python",
   "name": "python3"
  },
  "language_info": {
   "codemirror_mode": {
    "name": "ipython",
    "version": 3
   },
   "file_extension": ".py",
   "mimetype": "text/x-python",
   "name": "python",
   "nbconvert_exporter": "python",
   "pygments_lexer": "ipython3",
   "version": "3.6.10"
  }
 },
 "nbformat": 4,
 "nbformat_minor": 5
}
